{
 "cells": [
  {
   "cell_type": "code",
   "execution_count": 3,
   "id": "capital-toyota",
   "metadata": {},
   "outputs": [],
   "source": [
    "from whoosh import index\n",
    "from make_index import INDEX_DIR"
   ]
  },
  {
   "cell_type": "code",
   "execution_count": 4,
   "id": "common-marine",
   "metadata": {},
   "outputs": [],
   "source": [
    "ix = index.open_dir(INDEX_DIR)"
   ]
  },
  {
   "cell_type": "code",
   "execution_count": 5,
   "id": "cheap-integration",
   "metadata": {},
   "outputs": [],
   "source": [
    "from os import listdir"
   ]
  }
 ],
 "metadata": {
  "kernelspec": {
   "display_name": "Python 3",
   "language": "python",
   "name": "python3"
  },
  "language_info": {
   "codemirror_mode": {
    "name": "ipython",
    "version": 3
   },
   "file_extension": ".py",
   "mimetype": "text/x-python",
   "name": "python",
   "nbconvert_exporter": "python",
   "pygments_lexer": "ipython3",
   "version": "3.9.2"
  }
 },
 "nbformat": 4,
 "nbformat_minor": 5
}
